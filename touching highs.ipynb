{
 "cells": [
  {
   "cell_type": "code",
   "execution_count": 214,
   "id": "df785230",
   "metadata": {},
   "outputs": [],
   "source": [
    "import pandas as pd\n",
    "import numpy as np\n",
    "import matplotlib.pyplot as plt\n",
    "from timeit import timeit\n",
    "pd.set_option('display.max_rows', 500)"
   ]
  },
  {
   "cell_type": "code",
   "execution_count": 215,
   "id": "9e6419d8",
   "metadata": {},
   "outputs": [],
   "source": [
    "df = pd.read_csv(r'C:\\eBEST\\xingAPI\\result.csv',usecols = ['data','shname','shcode','open','high','low','close','following open'])\n",
    "df.columns = ['date','shname','shcode','open','high','low','close','following open']\n",
    "df.sort_values(by = 'date',ascending = False,inplace=True)\n",
    "df.drop(index= [1822,3512,3067,4198,4428,3734], inplace = True, axis=1)\n",
    "df['maintenance'] = np.where(df['high'] == df['close'], 'O','')\n",
    "df['profit rate'] = df['following open']  / df['close'] -1"
   ]
  },
  {
   "cell_type": "code",
   "execution_count": 281,
   "id": "f04a88f8",
   "metadata": {},
   "outputs": [
    {
     "name": "stdout",
     "output_type": "stream",
     "text": [
      "전체\n",
      "\n",
      "집계기간: 20191115 ~ 20211119\n",
      "집계일수: 498\n",
      "상한가 터치 건수: 4715\n",
      "상한가 터치 종목 수: 1498\n",
      "하루 평균 상한가 터치 건수: 9.47\n",
      "하루 평균 overnight 수익률: 4.5%\n",
      "하루 최소 overnight 수익률: -40.52%\n",
      "하루 최대 overnight 수익률: 30.0%\n",
      "overnight 수익률 표준편차: 8.59%\n"
     ]
    },
    {
     "data": {
      "image/png": "[encoded data removed]",
      "text/plain": [
       "<Figure size 432x288 with 1 Axes>"
      ]
     },
     "metadata": {
      "needs_background": "light"
     },
     "output_type": "display_data"
    },
    {
     "name": "stdout",
     "output_type": "stream",
     "text": [
      "\n",
      "\n",
      "Case1: 상한가 touch & 상한가 is 종가\n",
      "\n",
      "케이스 건수: 3064\n",
      "전체 건수 대비 비율: 64.98%\n",
      "해당 종목 수: 1188\n",
      "하루 평균 건수: 6.16\n",
      "하루 평균 overnight 수익률: 6.98%\n",
      "하루 최대 overnight 수익률: 30.0%\n",
      "하루 최소 overnight 수익률: -40.52%\n",
      "overnight 수익률 표준편차: 9.13%\n"
     ]
    },
    {
     "data": {
      "image/png": "[encoded data removed]",
      "text/plain": [
       "<Figure size 432x288 with 1 Axes>"
      ]
     },
     "metadata": {
      "needs_background": "light"
     },
     "output_type": "display_data"
    },
    {
     "name": "stdout",
     "output_type": "stream",
     "text": [
      "\n",
      "\n",
      "Case2: 상한가 touch & 상한가 is not 종가\n",
      "\n",
      "케이스 건수: 1651\n",
      "전체 건수 대비 비율: 35.02%\n",
      "해당 종목 수: 1003\n",
      "하루 평균 건수: 6.16\n",
      "하루 평균 overnight 수익률: -0.11%\n",
      "하루 최대 overnight 수익률: 29.84%\n",
      "하루 최소 overnight 수익률: -29.58%\n",
      "overnight 수익률 표준편차: 4.83%\n"
     ]
    },
    {
     "data": {
      "image/png": "[encoded data removed]",
      "text/plain": [
       "<Figure size 432x288 with 1 Axes>"
      ]
     },
     "metadata": {
      "needs_background": "light"
     },
     "output_type": "display_data"
    }
   ],
   "source": [
    "print('전체')\n",
    "print()\n",
    "print('집계기간:', df['date'].min(), '~', df['date'].max())\n",
    "print('집계일수:', df['date'].nunique())\n",
    "print('상한가 터치 건수:', len(df))\n",
    "print('상한가 터치 종목 수:',df['shcode'].nunique())\n",
    "print('하루 평균 상한가 터치 건수:', round(len(df)/df['date'].nunique(),2))\n",
    "print('하루 평균 overnight 수익률:', str(round(100*df['profit rate'].mean(),2))+'%')\n",
    "print('하루 최소 overnight 수익률:', str(round(100*df['profit rate'].min(),2))+'%')\n",
    "print('하루 최대 overnight 수익률:', str(round(100*df['profit rate'].max(),2))+'%')\n",
    "print('overnight 수익률 표준편차:', str(round(100*df['profit rate'].std(),2))+'%')\n",
    "plt.hist(df['profit rate']*100, bins = [(x-40) for x in range(80)])\n",
    "plt.title('overnight profit rate')\n",
    "plt.xlabel('profit rate')\n",
    "plt.ylabel('number of events')\n",
    "plt.grid(True)\n",
    "plt.show()\n",
    "print()\n",
    "print()\n",
    "print('Case1: 상한가 touch & 상한가 is 종가')\n",
    "print()\n",
    "print('케이스 건수:', len(df[df['maintenance']=='O']))\n",
    "print('전체 건수 대비 비율:', str(round(len(df[df['maintenance'] == 'O']) / len(df),4)*100)+'%')\n",
    "print('해당 종목 수:', df[df['maintenance']=='O']['shcode'].nunique())\n",
    "print('하루 평균 건수:', round(len(df[df['maintenance']=='O'])/df[df['maintenance']=='O']['date'].nunique(),2))\n",
    "print('하루 평균 overnight 수익률:', str(round(df[df['maintenance']=='O']['profit rate'].mean()*100,2)) + '%')\n",
    "print('하루 최대 overnight 수익률:', str(round(df[df['maintenance']=='O']['profit rate'].max()*100,2)) + '%')\n",
    "print('하루 최소 overnight 수익률:', str(round(df[df['maintenance']=='O']['profit rate'].min()*100,2)) + '%')\n",
    "print('overnight 수익률 표준편차:', str(round(df[df['maintenance']=='O']['profit rate'].std()*100,2)) + '%')\n",
    "plt.hist(df[df['maintenance']=='O']['profit rate']*100, bins = [(x-40) for x in range(80)])\n",
    "plt.title('overnight profit rate')\n",
    "plt.xlabel('profit rate')\n",
    "plt.ylabel('number of events')\n",
    "plt.grid(True)\n",
    "plt.show()\n",
    "print()\n",
    "print()\n",
    "print('Case2: 상한가 touch & 상한가 is not 종가')\n",
    "print()\n",
    "print('케이스 건수:' , len(df[df['maintenance']!='O']))\n",
    "print('전체 건수 대비 비율:', str(round(1 - len(df[df['maintenance'] == 'O']) / len(df),4)*100)+'%')\n",
    "print('해당 종목 수:', df[df['maintenance']!='O']['shcode'].nunique())\n",
    "print('하루 평균 건수:', round(len(df[df['maintenance']=='O'])/df[df['maintenance']=='O']['date'].nunique(),2) )\n",
    "print('하루 평균 overnight 수익률:',  str(round(df[df['maintenance']!='O']['profit rate'].mean()*100,2)) + '%')\n",
    "print('하루 최대 overnight 수익률:',  str(round(df[df['maintenance']!='O']['profit rate'].max()*100,2)) + '%')\n",
    "print('하루 최소 overnight 수익률:',  str(round(df[df['maintenance']!='O']['profit rate'].min()*100,2)) + '%')\n",
    "print('overnight 수익률 표준편차:',  str(round(df[df['maintenance']!='O']['profit rate'].std()*100,2)) + '%')\n",
    "plt.hist(df[df['maintenance']!='O']['profit rate']*100, bins = [(x-40) for x in range(80)])\n",
    "plt.title('overnight profit rate')\n",
    "plt.xlabel('profit rate')\n",
    "plt.ylabel('number of events')\n",
    "plt.grid(True)\n",
    "plt.show()"
   ]
  }
 ],
 "metadata": {
  "kernelspec": {
   "display_name": "Python 3",
   "language": "python",
   "name": "python3"
  },
  "language_info": {
   "codemirror_mode": {
    "name": "ipython",
    "version": 3
   },
   "file_extension": ".py",
   "mimetype": "text/x-python",
   "name": "python",
   "nbconvert_exporter": "python",
   "pygments_lexer": "ipython3",
   "version": "3.8.8"
  }
 },
 "nbformat": 4,
 "nbformat_minor": 5
}
